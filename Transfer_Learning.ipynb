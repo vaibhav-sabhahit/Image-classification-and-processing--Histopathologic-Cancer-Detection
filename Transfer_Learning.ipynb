{
  "nbformat": 4,
  "nbformat_minor": 0,
  "metadata": {
    "accelerator": "GPU",
    "colab": {
      "name": "Trasnfer Learning.ipynb",
      "provenance": [],
      "collapsed_sections": [],
      "toc_visible": true,
      "machine_shape": "hm"
    },
    "kernelspec": {
      "display_name": "Python 3",
      "language": "python",
      "name": "python3"
    },
    "language_info": {
      "codemirror_mode": {
        "name": "ipython",
        "version": 3
      },
      "file_extension": ".py",
      "mimetype": "text/x-python",
      "name": "python",
      "nbconvert_exporter": "python",
      "pygments_lexer": "ipython3",
      "version": "3.7.3"
    }
  },
  "cells": [
    {
      "cell_type": "code",
      "metadata": {
        "colab_type": "code",
        "id": "JYxTZ_p0voLX",
        "colab": {}
      },
      "source": [
        "import gc\n",
        "import sys\n",
        "from PIL import Image\n",
        "from glob import glob \n",
        "import zipfile\n",
        "import numpy as np\n",
        "from PIL import Image\n",
        "import pandas as pd\n",
        "import cv2\n",
        "import os\n",
        "from tqdm import tqdm_notebook,trange,tqdm\n",
        "import matplotlib.pyplot as plt\n",
        "\n",
        "\n",
        "import torchvision\n",
        "import torchvision.transforms as transforms\n",
        "import torchvision.models as models\n",
        "import torch\n",
        "import torch.nn as nn\n",
        "import torch.nn.functional as F\n"
      ],
      "execution_count": 0,
      "outputs": []
    },
    {
      "cell_type": "code",
      "metadata": {
        "colab_type": "code",
        "id": "CnWdlhMPv2E-",
        "colab": {}
      },
      "source": [
        "################################using kaggle api to download data directly from kaggle########################################\n",
        "# # Install kaggle packages\n",
        "# !pip install -q kaggle\n",
        "# !pip install -q kaggle-cli\n",
        "# !mkdir -p ~/.kaggle\n",
        "# !cp /content/kaggle.json ~/.kaggle/\n",
        "# !chmod 600 /root/.kaggle/kaggle.json\n",
        "# !kaggle competitions download -c histopathologic-cancer-detection"
      ],
      "execution_count": 0,
      "outputs": []
    },
    {
      "cell_type": "code",
      "metadata": {
        "colab_type": "code",
        "id": "qzx1iMPwxb__",
        "outputId": "eeb49636-818e-4620-8094-dd905adb23c1",
        "colab": {
          "base_uri": "https://localhost:8080/",
          "height": 126
        }
      },
      "source": [
        "from google.colab import drive\n",
        "drive.mount('/content/drive')\n",
        "import os\n",
        "os.chdir('/content/drive/My Drive/MDSBA/DL1/')"
      ],
      "execution_count": 4,
      "outputs": [
        {
          "output_type": "stream",
          "text": [
            "Go to this URL in a browser: https://accounts.google.com/o/oauth2/auth?client_id=947318989803-6bn6qk8qdgf4n4g3pfee6491hc0brc4i.apps.googleusercontent.com&redirect_uri=urn%3aietf%3awg%3aoauth%3a2.0%3aoob&response_type=code&scope=email%20https%3a%2f%2fwww.googleapis.com%2fauth%2fdocs.test%20https%3a%2f%2fwww.googleapis.com%2fauth%2fdrive%20https%3a%2f%2fwww.googleapis.com%2fauth%2fdrive.photos.readonly%20https%3a%2f%2fwww.googleapis.com%2fauth%2fpeopleapi.readonly\n",
            "\n",
            "Enter your authorization code:\n",
            "··········\n",
            "Mounted at /content/drive\n"
          ],
          "name": "stdout"
        }
      ]
    },
    {
      "cell_type": "code",
      "metadata": {
        "colab_type": "code",
        "id": "6MU6y-T76ac6",
        "colab": {}
      },
      "source": [
        "# # ##################################code to unzip the zipfiles containing resized images########################################\n",
        "# zip_ref1 = zipfile.ZipFile(\"/content/drive/My Drive/MDSBA/DL1/histopathologic-cancer-detection.zip\", 'r')\n",
        "# zip_ref1.extractall(\"/content/drive/My Drive/MDSBA/DL1/\")\n",
        "# zip_ref1.close()"
      ],
      "execution_count": 0,
      "outputs": []
    },
    {
      "cell_type": "markdown",
      "metadata": {
        "id": "dBnDIp7vgMEV",
        "colab_type": "text"
      },
      "source": [
        "Here, we create a dataframe with columns path (folder path of the image), id (image id name extracted from the path) and label(output which needs to be predicted)."
      ]
    },
    {
      "cell_type": "code",
      "metadata": {
        "id": "EtF4b8CQXhjT",
        "colab_type": "code",
        "outputId": "720a1bcc-7fe0-432e-baf2-00e711ad5e1d",
        "colab": {
          "base_uri": "https://localhost:8080/",
          "height": 194
        }
      },
      "source": [
        "# path = \"C:/Users/oshee/Documents/MDSBA/T2/Deep Learning/project/histopathologic-cancer-detection/\" \n",
        "path = \"/content/drive/My Drive/MDSBA/DL1/\" \n",
        "train_path = path + 'train/'\n",
        "df = pd.DataFrame({'path': glob(os.path.join(train_path,'*.tif'))})\n",
        "#print(df.head())\n",
        "df['id'] = df.path.map(lambda x: x.split('train/')[1].split(\".\")[0]) \n",
        "#print(df)\n",
        "labels = pd.read_csv(path+\"train_labels.csv\") \n",
        "df = df.merge(labels, on = \"id\") \n",
        "print(df.head()) "
      ],
      "execution_count": 0,
      "outputs": [
        {
          "output_type": "execute_result",
          "data": {
            "text/html": [
              "<div>\n",
              "<style scoped>\n",
              "    .dataframe tbody tr th:only-of-type {\n",
              "        vertical-align: middle;\n",
              "    }\n",
              "\n",
              "    .dataframe tbody tr th {\n",
              "        vertical-align: top;\n",
              "    }\n",
              "\n",
              "    .dataframe thead th {\n",
              "        text-align: right;\n",
              "    }\n",
              "</style>\n",
              "<table border=\"1\" class=\"dataframe\">\n",
              "  <thead>\n",
              "    <tr style=\"text-align: right;\">\n",
              "      <th></th>\n",
              "      <th>Unnamed: 0</th>\n",
              "      <th>path</th>\n",
              "      <th>id</th>\n",
              "      <th>label</th>\n",
              "    </tr>\n",
              "  </thead>\n",
              "  <tbody>\n",
              "    <tr>\n",
              "      <th>0</th>\n",
              "      <td>0</td>\n",
              "      <td>/content/drive/My Drive/MDSBA/DL1/train/37afd9...</td>\n",
              "      <td>37afd9cc095b853a51e4df9d91f04458a97e7fee</td>\n",
              "      <td>0</td>\n",
              "    </tr>\n",
              "    <tr>\n",
              "      <th>1</th>\n",
              "      <td>1</td>\n",
              "      <td>/content/drive/My Drive/MDSBA/DL1/train/37affb...</td>\n",
              "      <td>37affbb431561644aa55962f8974525c9f3c2abf</td>\n",
              "      <td>0</td>\n",
              "    </tr>\n",
              "    <tr>\n",
              "      <th>2</th>\n",
              "      <td>2</td>\n",
              "      <td>/content/drive/My Drive/MDSBA/DL1/train/37b03c...</td>\n",
              "      <td>37b03ce938e7b15da59524ff05be6321d551ddaa</td>\n",
              "      <td>0</td>\n",
              "    </tr>\n",
              "    <tr>\n",
              "      <th>3</th>\n",
              "      <td>3</td>\n",
              "      <td>/content/drive/My Drive/MDSBA/DL1/train/37b13e...</td>\n",
              "      <td>37b13ed76cbd6f216197b379f30ff39e1101f10e</td>\n",
              "      <td>0</td>\n",
              "    </tr>\n",
              "    <tr>\n",
              "      <th>4</th>\n",
              "      <td>4</td>\n",
              "      <td>/content/drive/My Drive/MDSBA/DL1/train/37b184...</td>\n",
              "      <td>37b18467265c86e02901252b5a2d68d10722f53c</td>\n",
              "      <td>0</td>\n",
              "    </tr>\n",
              "  </tbody>\n",
              "</table>\n",
              "</div>"
            ],
            "text/plain": [
              "   Unnamed: 0  ... label\n",
              "0           0  ...     0\n",
              "1           1  ...     0\n",
              "2           2  ...     0\n",
              "3           3  ...     0\n",
              "4           4  ...     0\n",
              "\n",
              "[5 rows x 4 columns]"
            ]
          },
          "metadata": {
            "tags": []
          },
          "execution_count": 5
        }
      ]
    },
    {
      "cell_type": "code",
      "metadata": {
        "id": "2iXmPwbWXNy6",
        "colab_type": "code",
        "colab": {}
      },
      "source": [
        "df.to_csv('/content/drive/My Drive/MDSBA/DL1/df.csv')"
      ],
      "execution_count": 0,
      "outputs": []
    },
    {
      "cell_type": "code",
      "metadata": {
        "id": "WxHc2niDXN6q",
        "colab_type": "code",
        "colab": {}
      },
      "source": [
        "df = pd.read_csv('/content/drive/My Drive/MDSBA/DL1/df.csv')"
      ],
      "execution_count": 0,
      "outputs": []
    },
    {
      "cell_type": "markdown",
      "metadata": {
        "colab_type": "text",
        "id": "I4EO1XkWIvXh"
      },
      "source": [
        "# **PRE-TRAINED MODELS** \n",
        "Now we are going to experiment with 3 pre-trained models. We are going to use the models VGG16, Resnet50 and Densenet169 as base models to build deep learning models which can be used for histopathologic cancer detection"
      ]
    },
    {
      "cell_type": "code",
      "metadata": {
        "colab_type": "code",
        "id": "wlqAk7prvoRJ",
        "colab": {}
      },
      "source": [
        "##########################function to load data, transform them and convert into tensors##############################\n",
        "def load_data_pretrained(N,df,transform):\n",
        "    \"\"\" This functions loads N images using the data df\n",
        "    \"\"\"\n",
        "    X = torch.zeros(N,3,224,224) \n",
        "    y = torch.tensor(np.squeeze(df.label.values)[0:N])\n",
        "    for i, row in tqdm_notebook(df.iterrows(), total=N):\n",
        "        print(row)\n",
        "        if i == N:\n",
        "            print('break')\n",
        "            break\n",
        "        img = cv2.imread(row['path'])\n",
        "        img = cv2.cvtColor(img, cv2.COLOR_BGR2RGB) \n",
        "        X[i] = transform(img) #applies the transform on the image\n",
        "        #image_new = transform(img) \n",
        "        #X[i] = image_new.cpu().data.numpy()\n",
        "    return X,y"
      ],
      "execution_count": 0,
      "outputs": []
    },
    {
      "cell_type": "code",
      "metadata": {
        "colab_type": "code",
        "id": "sSeY3WPSHlzF",
        "colab": {}
      },
      "source": [
        "transform_ = transforms.Compose([\n",
        "    transforms.ToPILImage(),\n",
        "    transforms.Resize(size=(224, 224)),\n",
        "    transforms.ToTensor(), #converts image to tensor\n",
        "    transforms.Normalize(mean=[0.485, 0.456, 0.406],std=[0.229, 0.224, 0.225]) #normaizes the image\n",
        "    ])"
      ],
      "execution_count": 0,
      "outputs": []
    },
    {
      "cell_type": "markdown",
      "metadata": {
        "id": "elLt-ht-gvAh",
        "colab_type": "text"
      },
      "source": [
        "X stores the input data and y stores the output data which is the labels. Here, we are loading only 10000 images which is 4.5% of the dataset.\n"
      ]
    },
    {
      "cell_type": "code",
      "metadata": {
        "colab_type": "code",
        "id": "dXWSTrnjvoRa",
        "colab": {}
      },
      "source": [
        "N=10000\n",
        "#loading data into X and y for 10000 images. \n",
        "X,y = load_data_pretrained(N=N,df=df,transform=transform_) "
      ],
      "execution_count": 0,
      "outputs": []
    },
    {
      "cell_type": "code",
      "metadata": {
        "id": "_OpsDfOFXuoj",
        "colab_type": "code",
        "colab": {}
      },
      "source": [
        "torch.save(X, '/content/drive/My Drive/MDSBA/DL1/X.pt')\n",
        "torch.save(y, '/content/drive/My Drive/MDSBA/DL1/y.pt')"
      ],
      "execution_count": 0,
      "outputs": []
    },
    {
      "cell_type": "code",
      "metadata": {
        "id": "Ey9kxwylXu0k",
        "colab_type": "code",
        "colab": {}
      },
      "source": [
        "X1 = torch.load('/content/drive/My Drive/MDSBA/DL1/X.pt')\n",
        "y1 = torch.load('/content/drive/My Drive/MDSBA/DL1/y.pt')"
      ],
      "execution_count": 0,
      "outputs": []
    },
    {
      "cell_type": "code",
      "metadata": {
        "colab_type": "code",
        "id": "h7u7M3ThvoR2",
        "colab": {}
      },
      "source": [
        "gc.collect()\n",
        "#X_train_tensor = torch.tensor(X)\n",
        "#Y_train_tensor = torch.tensor(y)\n",
        "#full_dataset = torch.utils.data.TensorDataset(X_train_tensor, Y_train_tensor)\n",
        "#creating tensor dataset\n",
        "full_dataset = torch.utils.data.TensorDataset(X1, y1)\n",
        "train_size = int(0.8 * len(full_dataset))\n",
        "val_size = len(full_dataset) - train_size\n",
        "#splitting data into train and test\n",
        "train_set, val_set = torch.utils.data.random_split(full_dataset, [train_size, val_size])\n",
        "#creating dataloaders\n",
        "train_dataloader = torch.utils.data.DataLoader(train_set, batch_size=32,\n",
        "                                           shuffle=True)\n",
        "val_dataloader = torch.utils.data.DataLoader(val_set, batch_size=32,\n",
        "                                           shuffle=False)"
      ],
      "execution_count": 0,
      "outputs": []
    },
    {
      "cell_type": "markdown",
      "metadata": {
        "id": "8W5ftJQ4hB2U",
        "colab_type": "text"
      },
      "source": [
        "Below function trains and validates the data. Loss_train and loss_eval contains the train loss and validation loss respectively for each epochs. "
      ]
    },
    {
      "cell_type": "code",
      "metadata": {
        "colab_type": "code",
        "id": "6MHly5X4Gej0",
        "colab": {}
      },
      "source": [
        "def train_and_val(model, epochs, optimizer, criterion, scheduler):  \n",
        "    loss_train = []\n",
        "    loss_eval = []\n",
        "\n",
        "    for epoch in tqdm(range(epochs)):  # loop over the dataset multiple times\n",
        "\n",
        "        #training\n",
        "        training_loss = 0.0\n",
        "        model.train()\n",
        "        for i, data in enumerate(train_dataloader, 0):\n",
        "            # get the inputs; data is a list of [inputs, labels]\n",
        "            inputs, labels = data\n",
        "            inputs, labels = inputs.to(device), labels.to(device)\n",
        "            # zero the parameter gradients\n",
        "            optimizer.zero_grad()\n",
        "\n",
        "            # forward + backward + optimize\n",
        "            outputs = model(inputs)\n",
        "            loss = criterion(outputs, labels)\n",
        "            loss.backward()\n",
        "            optimizer.step()\n",
        "\n",
        "            # print statistics\n",
        "            training_loss += loss.item() #* inputs.size(0)\n",
        "            # if i % 200 == 199:    # print every 200 mini-batches\n",
        "            #     print('[%d, %5d] loss: %.3f' %\n",
        "            #           (epoch + 1, i + 1, training_loss / 200))\n",
        "        loss_train.append(training_loss/len(train_set))\n",
        "        #validation\n",
        "        eval_loss = 0.0\n",
        "        correct = 0.0\n",
        "        total = 0\n",
        "        model.eval()\n",
        "        for i, data in enumerate(val_dataloader, 0):\n",
        "            images, label = data\n",
        "            images, label = images.to(device), label.to(device)\n",
        "            output = model(images)\n",
        "            _, predicted = torch.max(output.data, 1)\n",
        "            correct += (predicted == label).sum().item()\n",
        "            total += label.size(0)\n",
        "            loss = criterion(output, label)\n",
        "            eval_loss += loss.item() \n",
        "            # if i % 200 == 199:    # print every 200 mini-batches\n",
        "            #     print('[%d, %5d] loss: %.3f' %\n",
        "            #           (epoch + 1, i + 1, eval_loss / 200))\n",
        "        loss_eval.append(eval_loss/len(val_set))\n",
        "        scheduler.step(eval_loss) #for reducing learning rate if necessary \n",
        "        print('Accuracy of the network on the test images: %d %%' % float(100 * float(correct) / float(total)))\n",
        "    print('Finished Training')\n",
        "    plt.plot(loss_train,label='train')\n",
        "    plt.plot(loss_eval,label='val')\n",
        "    plt.legend()\n",
        "    plt.show()"
      ],
      "execution_count": 0,
      "outputs": []
    },
    {
      "cell_type": "markdown",
      "metadata": {
        "id": "jeAs-vc9PtNn",
        "colab_type": "text"
      },
      "source": [
        "### VGG16"
      ]
    },
    {
      "cell_type": "code",
      "metadata": {
        "colab_type": "code",
        "id": "JPLmIhpRGRmH",
        "colab": {}
      },
      "source": [
        "class VGG_new(nn.Module):\n",
        "    def __init__(self):\n",
        "        super(VGG_new, self).__init__()\n",
        "        self.model = models.vgg16(pretrained=True)\n",
        "        self.fc1 = nn.Linear(1000, 250)\n",
        "        self.fc2 = nn.Linear(250, 50)\n",
        "        self.dropout = nn.Dropout(0.2)\n",
        "        # self.elu = nn.ELU()\n",
        "        self.sigmoid = nn.Sigmoid()\n",
        "        self.fc3 = nn.Linear(50, 2)\n",
        "\n",
        "    def forward(self, x):\n",
        "        x = self.model(x)\n",
        "        x = self.fc1(x)\n",
        "        x = self.fc2(x)\n",
        "        x = self.sigmoid(x)\n",
        "        x = self.dropout(x)\n",
        "        x = self.fc3(x)\n",
        "        return x"
      ],
      "execution_count": 0,
      "outputs": []
    },
    {
      "cell_type": "code",
      "metadata": {
        "id": "z_KrLQ7KYtHX",
        "colab_type": "code",
        "colab": {}
      },
      "source": [
        "model_vgg = VGG_new()\n",
        "\n",
        "#freeing the pre-trained model layers\n",
        "for name, param in model_vgg.named_parameters():\n",
        "    if name in ['fc1.weight', 'fc1.bias', 'fc2.weight', 'fc2.bias', 'fc3.weight', 'fc3.bias']:\n",
        "        param.requires_grad = True\n",
        "    else:\n",
        "        param.requires_grad = False\n",
        "device = torch.device('cuda:0')\n",
        "model_vgg = model_vgg.cuda()\n",
        "\n",
        "criterion = nn.CrossEntropyLoss()\n",
        "optimizer = torch.optim.Adam(model_vgg.parameters(), lr=0.0001)\n",
        "scheduler = torch.optim.lr_scheduler.ReduceLROnPlateau(optimizer, patience=5, verbose=True)\n",
        "epochs = 10"
      ],
      "execution_count": 0,
      "outputs": []
    },
    {
      "cell_type": "code",
      "metadata": {
        "id": "ZR73PCEdars_",
        "colab_type": "code",
        "outputId": "189299fc-9d20-41a7-94af-1c4ba011f7d2",
        "colab": {
          "base_uri": "https://localhost:8080/",
          "height": 1000
        }
      },
      "source": [
        "train_and_val(model=model_vgg, epochs=epochs, optimizer=optimizer, criterion=criterion, scheduler=scheduler)"
      ],
      "execution_count": 0,
      "outputs": [
        {
          "output_type": "stream",
          "text": [
            "\n",
            "\n",
            "\n",
            "\n",
            "\n",
            "\n",
            "  0%|          | 0/10 [00:00<?, ?it/s]\u001b[A\u001b[A\u001b[A\u001b[A\u001b[A\u001b[A\n",
            "\n",
            "\n",
            "\n",
            "\n",
            "\n",
            " 10%|█         | 1/10 [00:28<04:20, 28.98s/it]\u001b[A\u001b[A\u001b[A\u001b[A\u001b[A\u001b[A"
          ],
          "name": "stderr"
        },
        {
          "output_type": "stream",
          "text": [
            "Accuracy of the network on the test images: 81 %\n"
          ],
          "name": "stdout"
        },
        {
          "output_type": "stream",
          "text": [
            "\n",
            "\n",
            "\n",
            "\n",
            "\n",
            "\n",
            " 20%|██        | 2/10 [00:57<03:51, 28.97s/it]\u001b[A\u001b[A\u001b[A\u001b[A\u001b[A\u001b[A"
          ],
          "name": "stderr"
        },
        {
          "output_type": "stream",
          "text": [
            "Accuracy of the network on the test images: 81 %\n"
          ],
          "name": "stdout"
        },
        {
          "output_type": "stream",
          "text": [
            "\n",
            "\n",
            "\n",
            "\n",
            "\n",
            "\n",
            " 30%|███       | 3/10 [01:26<03:22, 28.96s/it]\u001b[A\u001b[A\u001b[A\u001b[A\u001b[A\u001b[A"
          ],
          "name": "stderr"
        },
        {
          "output_type": "stream",
          "text": [
            "Accuracy of the network on the test images: 82 %\n"
          ],
          "name": "stdout"
        },
        {
          "output_type": "stream",
          "text": [
            "\n",
            "\n",
            "\n",
            "\n",
            "\n",
            "\n",
            " 40%|████      | 4/10 [01:55<02:53, 28.96s/it]\u001b[A\u001b[A\u001b[A\u001b[A\u001b[A\u001b[A"
          ],
          "name": "stderr"
        },
        {
          "output_type": "stream",
          "text": [
            "Accuracy of the network on the test images: 82 %\n"
          ],
          "name": "stdout"
        },
        {
          "output_type": "stream",
          "text": [
            "\n",
            "\n",
            "\n",
            "\n",
            "\n",
            "\n",
            " 50%|█████     | 5/10 [02:24<02:24, 28.95s/it]\u001b[A\u001b[A\u001b[A\u001b[A\u001b[A\u001b[A"
          ],
          "name": "stderr"
        },
        {
          "output_type": "stream",
          "text": [
            "Accuracy of the network on the test images: 83 %\n"
          ],
          "name": "stdout"
        },
        {
          "output_type": "stream",
          "text": [
            "\n",
            "\n",
            "\n",
            "\n",
            "\n",
            "\n",
            " 60%|██████    | 6/10 [02:53<01:55, 28.95s/it]\u001b[A\u001b[A\u001b[A\u001b[A\u001b[A\u001b[A"
          ],
          "name": "stderr"
        },
        {
          "output_type": "stream",
          "text": [
            "Accuracy of the network on the test images: 82 %\n"
          ],
          "name": "stdout"
        },
        {
          "output_type": "stream",
          "text": [
            "\n",
            "\n",
            "\n",
            "\n",
            "\n",
            "\n",
            " 70%|███████   | 7/10 [03:22<01:26, 28.95s/it]\u001b[A\u001b[A\u001b[A\u001b[A\u001b[A\u001b[A"
          ],
          "name": "stderr"
        },
        {
          "output_type": "stream",
          "text": [
            "Accuracy of the network on the test images: 83 %\n"
          ],
          "name": "stdout"
        },
        {
          "output_type": "stream",
          "text": [
            "\n",
            "\n",
            "\n",
            "\n",
            "\n",
            "\n",
            " 80%|████████  | 8/10 [03:51<00:57, 28.96s/it]\u001b[A\u001b[A\u001b[A\u001b[A\u001b[A\u001b[A"
          ],
          "name": "stderr"
        },
        {
          "output_type": "stream",
          "text": [
            "Accuracy of the network on the test images: 80 %\n"
          ],
          "name": "stdout"
        },
        {
          "output_type": "stream",
          "text": [
            "\n",
            "\n",
            "\n",
            "\n",
            "\n",
            "\n",
            " 90%|█████████ | 9/10 [04:20<00:28, 28.96s/it]\u001b[A\u001b[A\u001b[A\u001b[A\u001b[A\u001b[A"
          ],
          "name": "stderr"
        },
        {
          "output_type": "stream",
          "text": [
            "Accuracy of the network on the test images: 82 %\n"
          ],
          "name": "stdout"
        },
        {
          "output_type": "stream",
          "text": [
            "\n",
            "\n",
            "\n",
            "\n",
            "\n",
            "\n",
            "100%|██████████| 10/10 [04:49<00:00, 28.95s/it]"
          ],
          "name": "stderr"
        },
        {
          "output_type": "stream",
          "text": [
            "Accuracy of the network on the test images: 83 %\n",
            "Finished Training\n"
          ],
          "name": "stdout"
        },
        {
          "output_type": "stream",
          "text": [
            "\n"
          ],
          "name": "stderr"
        },
        {
          "output_type": "display_data",
          "data": {
            "image/png": "[encoded data removed]",
            "text/plain": [
              "<Figure size 432x288 with 1 Axes>"
            ]
          },
          "metadata": {
            "tags": []
          }
        }
      ]
    },
    {
      "cell_type": "markdown",
      "metadata": {
        "colab_type": "text",
        "id": "THy94CKeIg0J"
      },
      "source": [
        "### **MODEL 3 - Resnet**"
      ]
    },
    {
      "cell_type": "code",
      "metadata": {
        "colab_type": "code",
        "id": "EZ4q5jgr6_3X",
        "colab": {}
      },
      "source": [
        "class Resnet_new(nn.Module):\n",
        "    def __init__(self):\n",
        "        super(Resnet_new, self).__init__()\n",
        "        self.model = models.resnet50(pretrained=True)\n",
        "        self.fc1 = nn.Linear(1000, 250)\n",
        "        self.fc2 = nn.Linear(250, 50)\n",
        "        self.dropout = nn.Dropout(0.2)\n",
        "        self.sigmoid = nn.Sigmoid()\n",
        "        self.fc3 = nn.Linear(50, 2)\n",
        "\n",
        "    def forward(self, x):\n",
        "        x = self.model(x)\n",
        "        x = self.fc1(x)\n",
        "        x = self.fc2(x)\n",
        "        x = self.sigmoid(x)\n",
        "        x = self.dropout(x)\n",
        "        x = self.fc3(x)\n",
        "        return x"
      ],
      "execution_count": 0,
      "outputs": []
    },
    {
      "cell_type": "code",
      "metadata": {
        "colab_type": "code",
        "id": "mtzrZt14CbEF",
        "colab": {}
      },
      "source": [
        "model_resnet = Resnet_new()\n",
        "#freeing the pre-trained model layers\n",
        "for name, param in model_resnet.named_parameters():\n",
        "    if name in ['fc1.weight', 'fc1.bias', 'fc2.weight', 'fc2.bias', 'fc3.weight', 'fc3.bias']:\n",
        "        param.requires_grad = True\n",
        "    else:\n",
        "        param.requires_grad = False\n",
        "\n",
        "\n",
        "device = torch.device('cuda:0')\n",
        "model_resnet = model_resnet.cuda()\n",
        "\n",
        "\n",
        "#the best optimizer was found to be adams optimizer, the best loss function was found to be cross entrop loss\n",
        "criterion = nn.CrossEntropyLoss()\n",
        "optimizer = torch.optim.Adam(model_resnet.parameters(), lr=0.0001)\n",
        "scheduler = torch.optim.lr_scheduler.ReduceLROnPlateau(optimizer, patience=5, verbose=True)\n",
        "epochs = 10"
      ],
      "execution_count": 0,
      "outputs": []
    },
    {
      "cell_type": "code",
      "metadata": {
        "id": "vt9JFyYMPtN2",
        "colab_type": "code",
        "outputId": "9dc11020-53b1-4e9b-fa67-7d56199d82b9",
        "colab": {
          "base_uri": "https://localhost:8080/",
          "height": 1000
        }
      },
      "source": [
        "train_and_val(model=model_resnet, epochs=epochs, optimizer=optimizer, criterion=criterion, scheduler=scheduler)"
      ],
      "execution_count": 0,
      "outputs": [
        {
          "output_type": "stream",
          "text": [
            "\n",
            "\n",
            "\n",
            "\n",
            "\n",
            "\n",
            "  0%|          | 0/10 [00:00<?, ?it/s]\u001b[A\u001b[A\u001b[A\u001b[A\u001b[A\u001b[A"
          ],
          "name": "stderr"
        },
        {
          "output_type": "stream",
          "text": [
            "ERROR! Session/line number was not unique in database. History logging moved to new session 59\n"
          ],
          "name": "stdout"
        },
        {
          "output_type": "stream",
          "text": [
            "\n",
            "\n",
            "\n",
            "\n",
            "\n",
            "\n",
            " 10%|█         | 1/10 [00:19<02:54, 19.37s/it]\u001b[A\u001b[A\u001b[A\u001b[A\u001b[A\u001b[A"
          ],
          "name": "stderr"
        },
        {
          "output_type": "stream",
          "text": [
            "Accuracy of the network on the test images: 84 %\n"
          ],
          "name": "stdout"
        },
        {
          "output_type": "stream",
          "text": [
            "\n",
            "\n",
            "\n",
            "\n",
            "\n",
            "\n",
            " 20%|██        | 2/10 [00:38<02:34, 19.35s/it]\u001b[A\u001b[A\u001b[A\u001b[A\u001b[A\u001b[A"
          ],
          "name": "stderr"
        },
        {
          "output_type": "stream",
          "text": [
            "Accuracy of the network on the test images: 84 %\n"
          ],
          "name": "stdout"
        },
        {
          "output_type": "stream",
          "text": [
            "\n",
            "\n",
            "\n",
            "\n",
            "\n",
            "\n",
            " 30%|███       | 3/10 [00:58<02:15, 19.34s/it]\u001b[A\u001b[A\u001b[A\u001b[A\u001b[A\u001b[A"
          ],
          "name": "stderr"
        },
        {
          "output_type": "stream",
          "text": [
            "Accuracy of the network on the test images: 84 %\n"
          ],
          "name": "stdout"
        },
        {
          "output_type": "stream",
          "text": [
            "\n",
            "\n",
            "\n",
            "\n",
            "\n",
            "\n",
            " 40%|████      | 4/10 [01:17<01:56, 19.34s/it]\u001b[A\u001b[A\u001b[A\u001b[A\u001b[A\u001b[A"
          ],
          "name": "stderr"
        },
        {
          "output_type": "stream",
          "text": [
            "Accuracy of the network on the test images: 85 %\n"
          ],
          "name": "stdout"
        },
        {
          "output_type": "stream",
          "text": [
            "\n",
            "\n",
            "\n",
            "\n",
            "\n",
            "\n",
            " 50%|█████     | 5/10 [01:36<01:36, 19.33s/it]\u001b[A\u001b[A\u001b[A\u001b[A\u001b[A\u001b[A"
          ],
          "name": "stderr"
        },
        {
          "output_type": "stream",
          "text": [
            "Accuracy of the network on the test images: 84 %\n"
          ],
          "name": "stdout"
        },
        {
          "output_type": "stream",
          "text": [
            "\n",
            "\n",
            "\n",
            "\n",
            "\n",
            "\n",
            " 60%|██████    | 6/10 [01:55<01:17, 19.33s/it]\u001b[A\u001b[A\u001b[A\u001b[A\u001b[A\u001b[A"
          ],
          "name": "stderr"
        },
        {
          "output_type": "stream",
          "text": [
            "Accuracy of the network on the test images: 85 %\n"
          ],
          "name": "stdout"
        },
        {
          "output_type": "stream",
          "text": [
            "\n",
            "\n",
            "\n",
            "\n",
            "\n",
            "\n",
            " 70%|███████   | 7/10 [02:15<00:57, 19.33s/it]\u001b[A\u001b[A\u001b[A\u001b[A\u001b[A\u001b[A"
          ],
          "name": "stderr"
        },
        {
          "output_type": "stream",
          "text": [
            "Accuracy of the network on the test images: 85 %\n"
          ],
          "name": "stdout"
        },
        {
          "output_type": "stream",
          "text": [
            "\n",
            "\n",
            "\n",
            "\n",
            "\n",
            "\n",
            " 80%|████████  | 8/10 [02:34<00:38, 19.33s/it]\u001b[A\u001b[A\u001b[A\u001b[A\u001b[A\u001b[A"
          ],
          "name": "stderr"
        },
        {
          "output_type": "stream",
          "text": [
            "Accuracy of the network on the test images: 85 %\n"
          ],
          "name": "stdout"
        },
        {
          "output_type": "stream",
          "text": [
            "\n",
            "\n",
            "\n",
            "\n",
            "\n",
            "\n",
            " 90%|█████████ | 9/10 [02:53<00:19, 19.33s/it]\u001b[A\u001b[A\u001b[A\u001b[A\u001b[A\u001b[A"
          ],
          "name": "stderr"
        },
        {
          "output_type": "stream",
          "text": [
            "Accuracy of the network on the test images: 85 %\n"
          ],
          "name": "stdout"
        },
        {
          "output_type": "stream",
          "text": [
            "\n",
            "\n",
            "\n",
            "\n",
            "\n",
            "\n",
            "100%|██████████| 10/10 [03:13<00:00, 19.33s/it]"
          ],
          "name": "stderr"
        },
        {
          "output_type": "stream",
          "text": [
            "Accuracy of the network on the test images: 85 %\n",
            "Finished Training\n"
          ],
          "name": "stdout"
        },
        {
          "output_type": "stream",
          "text": [
            "\n"
          ],
          "name": "stderr"
        },
        {
          "output_type": "display_data",
          "data": {
            "image/png": "[encoded data removed]",
            "text/plain": [
              "<Figure size 432x288 with 1 Axes>"
            ]
          },
          "metadata": {
            "tags": []
          }
        }
      ]
    },
    {
      "cell_type": "markdown",
      "metadata": {
        "id": "A0DUS8JTPtN6",
        "colab_type": "text"
      },
      "source": [
        "### Densenet"
      ]
    },
    {
      "cell_type": "code",
      "metadata": {
        "colab_type": "code",
        "id": "taAH5UaZvoSb",
        "colab": {}
      },
      "source": [
        "class Densenet_new(nn.Module):\n",
        "    def __init__(self):\n",
        "        super(Densenet_new, self).__init__()\n",
        "        self.model = models.densenet169(pretrained=True)\n",
        "        self.fc1 = nn.Linear(1000, 250)\n",
        "        self.fc2 = nn.Linear(250, 50)\n",
        "        self.dropout = nn.Dropout(0.2)\n",
        "        self.sigmoid = nn.Sigmoid()\n",
        "        self.fc3 = nn.Linear(50, 2)\n",
        "\n",
        "    def forward(self, x):\n",
        "        x = self.model(x)\n",
        "        x = self.fc1(x)\n",
        "        x = self.fc2(x)\n",
        "        x = self.sigmoid(x)\n",
        "        x = self.dropout(x)\n",
        "        x = self.fc3(x)\n",
        "        return x"
      ],
      "execution_count": 0,
      "outputs": []
    },
    {
      "cell_type": "code",
      "metadata": {
        "colab_type": "code",
        "id": "tdx2RpjW5Bw1",
        "colab": {}
      },
      "source": [
        "model_densenet = Densenet_new()\n",
        "#freeing the pre-trained model layers\n",
        "for name, param in model_densenet.named_parameters():\n",
        "    if name in ['fc1.weight', 'fc1.bias', 'fc2.weight', 'fc2.bias', 'fc3.weight', 'fc3.bias']:\n",
        "        param.requires_grad = True\n",
        "    else:\n",
        "        param.requires_grad = False\n",
        "\n",
        "\n",
        "device = torch.device('cuda:0')\n",
        "model_densenet = model_densenet.cuda()\n",
        "\n",
        "\n",
        "#the best optimizer was found to be adams optimizer, the best loss function was found to be cross entrop loss\n",
        "criterion = nn.CrossEntropyLoss()\n",
        "\n",
        "\n",
        "optimizer = torch.optim.Adam(model_densenet.parameters(), lr=0.001)\n",
        "scheduler = torch.optim.lr_scheduler.ReduceLROnPlateau(optimizer, patience=3, verbose=True)\n",
        "epochs = 10"
      ],
      "execution_count": 0,
      "outputs": []
    },
    {
      "cell_type": "code",
      "metadata": {
        "colab_type": "code",
        "id": "DOz9PjUsGAbj",
        "outputId": "bc96431d-d0cb-4c36-9309-76ad5ae73b7a",
        "colab": {
          "base_uri": "https://localhost:8080/",
          "height": 478
        }
      },
      "source": [
        "train_and_val(model=model_densenet, epochs=epochs, optimizer=optimizer, criterion=criterion, scheduler=scheduler)"
      ],
      "execution_count": 13,
      "outputs": [
        {
          "output_type": "stream",
          "text": [
            " 10%|█         | 1/10 [00:26<04:00, 26.68s/it]"
          ],
          "name": "stderr"
        },
        {
          "output_type": "stream",
          "text": [
            "Accuracy of the network on the test images: 86 %\n"
          ],
          "name": "stdout"
        },
        {
          "output_type": "stream",
          "text": [
            "\r 20%|██        | 2/10 [00:52<03:32, 26.53s/it]"
          ],
          "name": "stderr"
        },
        {
          "output_type": "stream",
          "text": [
            "Accuracy of the network on the test images: 85 %\n"
          ],
          "name": "stdout"
        },
        {
          "output_type": "stream",
          "text": [
            "\r 30%|███       | 3/10 [01:19<03:05, 26.43s/it]"
          ],
          "name": "stderr"
        },
        {
          "output_type": "stream",
          "text": [
            "Accuracy of the network on the test images: 85 %\n"
          ],
          "name": "stdout"
        },
        {
          "output_type": "stream",
          "text": [
            "\r 40%|████      | 4/10 [01:45<02:38, 26.37s/it]"
          ],
          "name": "stderr"
        },
        {
          "output_type": "stream",
          "text": [
            "Accuracy of the network on the test images: 86 %\n"
          ],
          "name": "stdout"
        },
        {
          "output_type": "stream",
          "text": [
            "\r 50%|█████     | 5/10 [02:11<02:11, 26.32s/it]"
          ],
          "name": "stderr"
        },
        {
          "output_type": "stream",
          "text": [
            "Accuracy of the network on the test images: 86 %\n"
          ],
          "name": "stdout"
        },
        {
          "output_type": "stream",
          "text": [
            "\r 60%|██████    | 6/10 [02:37<01:45, 26.29s/it]"
          ],
          "name": "stderr"
        },
        {
          "output_type": "stream",
          "text": [
            "Accuracy of the network on the test images: 85 %\n"
          ],
          "name": "stdout"
        },
        {
          "output_type": "stream",
          "text": [
            "\r 70%|███████   | 7/10 [03:03<01:18, 26.27s/it]"
          ],
          "name": "stderr"
        },
        {
          "output_type": "stream",
          "text": [
            "Accuracy of the network on the test images: 86 %\n"
          ],
          "name": "stdout"
        },
        {
          "output_type": "stream",
          "text": [
            "\r 80%|████████  | 8/10 [03:30<00:52, 26.25s/it]"
          ],
          "name": "stderr"
        },
        {
          "output_type": "stream",
          "text": [
            "Accuracy of the network on the test images: 86 %\n"
          ],
          "name": "stdout"
        },
        {
          "output_type": "stream",
          "text": [
            "\r 90%|█████████ | 9/10 [03:56<00:26, 26.24s/it]"
          ],
          "name": "stderr"
        },
        {
          "output_type": "stream",
          "text": [
            "Accuracy of the network on the test images: 85 %\n"
          ],
          "name": "stdout"
        },
        {
          "output_type": "stream",
          "text": [
            "100%|██████████| 10/10 [04:22<00:00, 26.26s/it]"
          ],
          "name": "stderr"
        },
        {
          "output_type": "stream",
          "text": [
            "Accuracy of the network on the test images: 86 %\n",
            "Finished Training\n"
          ],
          "name": "stdout"
        },
        {
          "output_type": "stream",
          "text": [
            "\n"
          ],
          "name": "stderr"
        },
        {
          "output_type": "display_data",
          "data": {
            "image/png": "[encoded data removed]",
            "text/plain": [
              "<Figure size 432x288 with 1 Axes>"
            ]
          },
          "metadata": {
            "tags": []
          }
        }
      ]
    }
  ]
}